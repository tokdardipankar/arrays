{
 "cells": [
  {
   "cell_type": "raw",
   "id": "6783e501-7ab8-4338-b025-1412917bb01c",
   "metadata": {},
   "source": [
    "1. Given an array, check if it contains any duplicates or not.\n",
    "arr = [1, 2, 4, 2, 5, 9]\n",
    "Output = True"
   ]
  },
  {
   "cell_type": "code",
   "execution_count": 35,
   "id": "7d4eebd1-4ec8-4bcf-a751-d1d85da110fa",
   "metadata": {},
   "outputs": [
    {
     "name": "stdout",
     "output_type": "stream",
     "text": [
      "Output=True\n"
     ]
    }
   ],
   "source": [
    "## Method defination of duplicate exist function\n",
    "## Time complexity=O(1)\n",
    "## Space Complexity=O(1)\n",
    "\n",
    "def duplicate(arr):\n",
    "    if len(arr)==len(set(arr)):\n",
    "        return False\n",
    "    else:\n",
    "        return True\n",
    "#Driver code\n",
    "arr = [1, 2,4,2,5, 9]\n",
    "print(f\"Output={duplicate(arr)}\")"
   ]
  },
  {
   "cell_type": "raw",
   "id": "e2f34595-0c17-48f8-a400-418c33694f82",
   "metadata": {},
   "source": [
    "Function Definition (def duplicate(arr):):\n",
    "A function named duplicate is defined with one parameter, arr, representing an array or list.\n",
    "Duplicate Checking Logic:\n",
    "\n",
    "Inside the duplicate function, it checks if the length of the array (arr) is equal to the length of the set of elements in the array (set(arr)).\n",
    "The set function converts the array into a set, which removes any duplicate elements since sets only contain unique elements.\n",
    "If the lengths are equal, it means there are no duplicate elements in the array, so the function returns False.\n",
    "If the lengths are different, it indicates that there are duplicate elements, and the function returns True.\n",
    "Driver Code:\n",
    "\n",
    "An array named arr is defined with some elements, including duplicates.\n",
    "The duplicate function is called with the arr array as an argument.\n",
    "The result of the duplicate function call is printed using f-string formatting. The format is Output={duplicate(arr)}.\n",
    "So, when you run this code, it checks if there are any duplicates in the arr array. In this specific case, since there are duplicates (e.g., the number 2 appears twice), the output will be Output=True.\n",
    "Time complexity:-constant time complexity O(1)\n",
    "Space Complexity:- Constant space complexity O(1)"
   ]
  },
  {
   "cell_type": "code",
   "execution_count": null,
   "id": "94e15620-0d91-46ca-a7ad-afc9cb338eee",
   "metadata": {},
   "outputs": [],
   "source": []
  },
  {
   "cell_type": "raw",
   "id": "8d37d912-05cc-401b-ae9a-c900fbf273f8",
   "metadata": {},
   "source": [
    "2. Given an array and an integer k, rotate the array to the right by k steps. \n",
    "arr = [1, 2, 3, 4, 5, 6, 7] k = 3 \n",
    "Output = [5, 6, 7, 1, 2, 3, 4]"
   ]
  },
  {
   "cell_type": "code",
   "execution_count": 36,
   "id": "eb22a936-9919-4bb4-8484-d559ae7c7cdd",
   "metadata": {},
   "outputs": [
    {
     "name": "stdout",
     "output_type": "stream",
     "text": [
      " Output=[5, 6, 7, 1, 2, 3, 4]\n"
     ]
    }
   ],
   "source": [
    "# #Method defination of rotate function\n",
    "# #Time Complexity: O(n)\n",
    "# #Space Complexity: o(1)\n",
    "def inde(arr):\n",
    "    return arr[-k:]+ arr[0:-k]\n",
    "#Driver code\n",
    "arr = [1, 2, 3, 4, 5, 6, 7]\n",
    "k=3\n",
    "print(f\" Output={inde(arr)}\")"
   ]
  },
  {
   "cell_type": "raw",
   "id": "8cb1d06a-7d7c-42c0-b2fc-a3d6b0e78c9e",
   "metadata": {},
   "source": [
    "def inde(arr):-\n",
    "This line defines a function named inde that takes one parameter, arr, which presumably represents an array.\n",
    "return arr[-k:]+ arr[0:-k]:-\n",
    "This line returns the result of rotating the array arr to the right by k steps.\n",
    "arr[-k:] selects the last k elements of the array, representing the elements that will be moved to the beginning after rotation.\n",
    "arr[:-k] selects all elements of the array except the last k elements, representing the elements that will remain at the end after rotation.\n",
    "The + operator concatenates these two sliced arrays, resulting in the rotated array.\n",
    "arr = [1, 2, 3, 4, 5, 6, 7]\n",
    "k=3:-This section of code initializes the array arr with some elements and sets the value of k to 3, indicating the number of steps by which the array should be rotated.\n",
    "print(f\" Output={inde(arr)}\"):-\n",
    "This line calls the inde function with the array arr as an argument.\n",
    "The rotated array returned by the function is then printed using f-string formatting.\n",
    "time Complexity: O(n)\n",
    "Space Complexity: o(1)"
   ]
  },
  {
   "cell_type": "code",
   "execution_count": null,
   "id": "9038e0bc-c722-462b-ad3e-b0bccd16465b",
   "metadata": {},
   "outputs": [],
   "source": []
  },
  {
   "cell_type": "raw",
   "id": "05bdf327-4531-4eb5-b5af-6a568f19c625",
   "metadata": {},
   "source": [
    "3. Reverse the given array in-place, means without using any extra data structure.\n",
    "arr = [2, 4, 5, 7, 9, 12]\n",
    "Output = [12, 9, 7, 5, 4, 2]"
   ]
  },
  {
   "cell_type": "code",
   "execution_count": 37,
   "id": "32e222c1-cb14-4a89-aa94-b670136d2241",
   "metadata": {},
   "outputs": [
    {
     "name": "stdout",
     "output_type": "stream",
     "text": [
      "Output= [12, 9, 7, 5, 4, 2]\n"
     ]
    }
   ],
   "source": [
    "#method defination for reverse function\n",
    "#Time complexity O(n)\n",
    "#space complexity O(1)\n",
    "def rev(arr):\n",
    "    return arr[::-1]\n",
    "#driver code\n",
    "arr = [2, 4, 5, 7, 9, 12]\n",
    "print(f'Output= {rev(arr)}')"
   ]
  },
  {
   "cell_type": "raw",
   "id": "a7abfe44-9ec4-447f-8685-8c934a926468",
   "metadata": {},
   "source": [
    "Description:-An array arr is initialized with the values [2, 4, 5, 7, 9, 12].\n",
    "The rev() function is called with arr as an argument.\n",
    "The result of the function call is then printed using an f-string, which concatenates the string \"Output: \" with the reversed array.\n",
    "When executed, this code will output: Output: [12, 9, 7, 5, 4, 2], showing the reversed version of the original array [2, 4, 5, 7, 9, 12].\n",
    "#Time complexity:- while array reverse all elements one by one that depents on N number of elements in the array so time complexity will be O(n)\n",
    "#space complexity:- There is not using any external data structure so the space complexity will be O(1)."
   ]
  },
  {
   "cell_type": "code",
   "execution_count": null,
   "id": "d5325ac2-4f8a-4c4a-bd0e-f6dec8397055",
   "metadata": {},
   "outputs": [],
   "source": []
  },
  {
   "cell_type": "raw",
   "id": "0826963c-ec86-45ce-9dfb-e9059d2830b7",
   "metadata": {},
   "source": [
    "4. Given an array of integers, find the maximum element in an array\n",
    "arr = [10, 5, 20, 8, 15]\n",
    "Output = 20"
   ]
  },
  {
   "cell_type": "code",
   "execution_count": 38,
   "id": "f843b188-104e-4a81-a0dc-43d0050a1117",
   "metadata": {},
   "outputs": [
    {
     "name": "stdout",
     "output_type": "stream",
     "text": [
      "Output=20 \n"
     ]
    }
   ],
   "source": [
    "##Method defination of maximum element find function\n",
    "##Time complexity:-O(n)\n",
    "##space complexity:O(1)\n",
    "def maxi(arr):\n",
    "    m=0\n",
    "    for i in range(len(arr)):\n",
    "        if arr[i]>=m:\n",
    "            m=arr[i]\n",
    "    return m\n",
    "#driver code\n",
    "arr = [10, 5, 20, 8,15]\n",
    "print(f\"Output={maxi(arr)} \")"
   ]
  },
  {
   "cell_type": "raw",
   "id": "2da23c8c-8cbe-4982-9f24-7ef77853f84b",
   "metadata": {},
   "source": [
    "Function Definition (def maxi(arr):):\n",
    "The function maxi is defined, which takes an array arr as its parameter.\n",
    "\n",
    "Finding Maximum Element:\n",
    "Inside the function, a variable m is initialized to 0. This variable will store the maximum value found so far.\n",
    "A for loop iterates over the indices of the array arr using range(len(arr)).\n",
    "At each iteration, it checks if the element at the current index (arr[i]) is greater than or equal to the current maximum (m). If it is, then the maximum (m) is updated to the value of arr[i].\n",
    "After iterating through the entire array, the maximum value (m) is returned.\n",
    "\n",
    "Driver Code Section (#driver code):\n",
    "An array arr is initialized with values [10, 5, 20, 8, 15].\n",
    "The maxi() function is called with this array as an argument.\n",
    "The result, which is the maximum element found in the array, is then printed using an f-string.\n",
    "When this code is executed, it will output: Maximum Element is: 20, indicating that the maximum element in the array [10, 5, 20, 8, 15] is 20.\n",
    "Time complexity:-since we are using single a for loop to execute the maximum value of this array so the time                    complexity is O(n).\n",
    "Space complexity:- Here we are not using any external space so the space complexity is O(1)"
   ]
  },
  {
   "cell_type": "code",
   "execution_count": null,
   "id": "88b9da11-0341-418a-83f4-ac7864c6c16c",
   "metadata": {},
   "outputs": [],
   "source": []
  },
  {
   "cell_type": "raw",
   "id": "e9efe51e-f5df-439b-adc5-5bbf039ff0ef",
   "metadata": {},
   "source": [
    "5. Given a sorted array, remove the duplicate element without using any extra data structure.\n",
    "arr = [1, 1, 2, 2, 2, 3, 3, 4, 4, 4, 5, 5]\n",
    "Output = [1, 2, 3, 4, 5]"
   ]
  },
  {
   "cell_type": "code",
   "execution_count": 39,
   "id": "19a9e1e5-d833-42dc-afd1-8474afdbbfba",
   "metadata": {},
   "outputs": [
    {
     "name": "stdout",
     "output_type": "stream",
     "text": [
      "Output= [1, 2, 3, 4, 5]\n"
     ]
    }
   ],
   "source": [
    "##Method defination of duplicate remove function\n",
    "##Time complexity:O(n)\n",
    "##space complexity:O(1)\n",
    "def dup_remo(arr):\n",
    "    return list(set(arr))\n",
    "#Driver code\n",
    "arr = [1, 1, 2, 2, 2, 3, 3, 4, 4, 4, 5, 5]\n",
    "print(f\"Output= {dup_remo(arr)}\") "
   ]
  },
  {
   "cell_type": "raw",
   "id": "f8d6d9c1-64af-4e14-9c4e-7408de065751",
   "metadata": {},
   "source": [
    "Function Definition (dup_remo):\n",
    "def dup_remo(arr): defines a function named dup_remo that takes one argument arr.\n",
    "\n",
    "Function Implementation:\n",
    "set(arr): Converts the list arr into a set. Sets contain only unique elements, so any duplicate elements in the list arr are automatically removed.\n",
    "list(set(arr)): Converts the set back into a list. This ensures that the order of elements is preserved, as sets do not guarantee order.\n",
    "\n",
    "Driver Code:\n",
    "arr = [1, 1, 2, 2, 2, 3, 3, 4, 4, 4, 5, 5]: Defines a list arr containing some duplicate elements.\n",
    "print(f\"Output= {dup_remo(arr)}\"): Calls the dup_remo function with arr as an argument and prints the result. The function removes duplicates from arr and returns the result, which is then printed.\n",
    "The output of the code will be Output= [1, 2, 3, 4, 5], which is the list arr with duplicates removed.\n",
    "Time complexity:-Linear time complexity O(n), where n is the number of elements in the input list arr.\n",
    "Space complexity:-No externel spaces are using so space complexity is O(1)"
   ]
  },
  {
   "cell_type": "code",
   "execution_count": null,
   "id": "9b977edd-4e81-4ec7-9faa-53b9fb8ef7d3",
   "metadata": {},
   "outputs": [],
   "source": []
  },
  {
   "cell_type": "code",
   "execution_count": null,
   "id": "56e10636-8cb0-4602-8d11-861cb6831915",
   "metadata": {},
   "outputs": [],
   "source": []
  }
 ],
 "metadata": {
  "kernelspec": {
   "display_name": "Python 3 (ipykernel)",
   "language": "python",
   "name": "python3"
  },
  "language_info": {
   "codemirror_mode": {
    "name": "ipython",
    "version": 3
   },
   "file_extension": ".py",
   "mimetype": "text/x-python",
   "name": "python",
   "nbconvert_exporter": "python",
   "pygments_lexer": "ipython3",
   "version": "3.10.8"
  }
 },
 "nbformat": 4,
 "nbformat_minor": 5
}
